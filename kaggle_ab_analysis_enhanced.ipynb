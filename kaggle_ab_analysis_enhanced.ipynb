{
 "cells": [
  {
   "cell_type": "markdown",
   "id": "5f187bdf",
   "metadata": {},
   "source": [
    "# A/B Testing Analysis on E-Commerce Dataset\n",
    "This notebook performs EDA, statistical testing, and uplift modeling using the enhanced Kaggle-style dataset."
   ]
  },
  {
   "cell_type": "code",
   "execution_count": null,
   "id": "6f5e731d",
   "metadata": {},
   "outputs": [],
   "source": [
    "import pandas as pd\n",
    "import numpy as np\n",
    "import matplotlib.pyplot as plt\n",
    "import seaborn as sns\n",
    "\n",
    "# Load dataset\n",
    "df = pd.read_csv('../data/kaggle_ecommerce_data_enhanced.csv')\n",
    "df.head()"
   ]
  },
  {
   "cell_type": "markdown",
   "id": "591d7a20",
   "metadata": {},
   "source": [
    "## Exploratory Data Analysis"
   ]
  },
  {
   "cell_type": "code",
   "execution_count": null,
   "id": "63cf4d76",
   "metadata": {},
   "outputs": [],
   "source": [
    "df.describe(include='all')"
   ]
  },
  {
   "cell_type": "code",
   "execution_count": null,
   "id": "3c96ba9a",
   "metadata": {},
   "outputs": [],
   "source": [
    "# Conversion rates by group\n",
    "conversion_rates = df.groupby('group')['converted'].mean()\n",
    "print(conversion_rates)\n",
    "sns.barplot(data=df, x='group', y='converted')\n",
    "plt.title(\"Conversion Rate by Group\")\n",
    "plt.show()"
   ]
  },
  {
   "cell_type": "markdown",
   "id": "f3f2561a",
   "metadata": {},
   "source": [
    "## Hypothesis Testing (A/B)"
   ]
  },
  {
   "cell_type": "code",
   "execution_count": null,
   "id": "c8e90b71",
   "metadata": {},
   "outputs": [],
   "source": [
    "from scipy.stats import ttest_ind\n",
    "\n",
    "control = df[df['group'] == 'control']['converted']\n",
    "treatment = df[df['group'] == 'treatment']['converted']\n",
    "\n",
    "t_stat, p_val = ttest_ind(treatment, control)\n",
    "print(f\"T-statistic: {t_stat}, P-value: {p_val}\")\n"
   ]
  },
  {
   "cell_type": "markdown",
   "id": "53e638d2",
   "metadata": {},
   "source": [
    "## Uplift Modeling with EconML"
   ]
  },
  {
   "cell_type": "code",
   "execution_count": null,
   "id": "efe1d4ab",
   "metadata": {},
   "outputs": [],
   "source": [
    "from econml.dr import DRLearner\n",
    "from sklearn.ensemble import RandomForestRegressor\n",
    "from sklearn.linear_model import LogisticRegression\n",
    "from sklearn.preprocessing import OneHotEncoder\n",
    "\n",
    "# One-hot encode categorical variables\n",
    "df_model = pd.get_dummies(df, columns=[\"location\", \"device\", \"gender\"], drop_first=True)\n",
    "\n",
    "# Define features\n",
    "features = ['time_spent', 'age', 'days_since_last_visit', 'pages_viewed'] +            [col for col in df_model.columns if col.startswith(\"location_\") or col.startswith(\"device_\") or col.startswith(\"gender_\")]\n",
    "\n",
    "X = df_model[features]\n",
    "T = df_model['group'].map({'control': 0, 'treatment': 1})\n",
    "Y = df_model['converted']\n",
    "\n",
    "model_y = RandomForestRegressor()\n",
    "model_t = LogisticRegression()\n",
    "learner = DRLearner(model_regression=model_y, model_propensity=model_t)\n",
    "learner.fit(Y, T, X=X)\n",
    "\n",
    "df_model['uplift'] = learner.effect(X)\n",
    "df_model[['uplift']].describe()"
   ]
  },
  {
   "cell_type": "code",
   "execution_count": null,
   "id": "9dd23082",
   "metadata": {},
   "outputs": [],
   "source": [
    "sns.histplot(df_model['uplift'], bins=30, kde=True)\n",
    "plt.title(\"Estimated Treatment Effect (Uplift Distribution)\")\n",
    "plt.show()"
   ]
  }
 ],
 "metadata": {},
 "nbformat": 4,
 "nbformat_minor": 5
}
